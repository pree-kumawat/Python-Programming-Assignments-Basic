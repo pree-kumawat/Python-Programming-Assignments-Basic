{
 "cells": [
  {
   "cell_type": "markdown",
   "id": "0e3e9a6e",
   "metadata": {},
   "source": [
    "### 1. Write a Python program to print &quot;Hello Python&quot;?"
   ]
  },
  {
   "cell_type": "code",
   "execution_count": 8,
   "id": "538fa229",
   "metadata": {},
   "outputs": [
    {
     "name": "stdout",
     "output_type": "stream",
     "text": [
      "Hello Python\n"
     ]
    }
   ],
   "source": [
    "print(\"Hello Python\")"
   ]
  },
  {
   "cell_type": "markdown",
   "id": "043892e0",
   "metadata": {},
   "source": [
    "### 2. Write a Python program to do arithmetical operations addition and division.?"
   ]
  },
  {
   "cell_type": "code",
   "execution_count": 9,
   "id": "2b88671e",
   "metadata": {},
   "outputs": [
    {
     "name": "stdout",
     "output_type": "stream",
     "text": [
      "The sum is: 8\n",
      "The division result is: 5.0\n"
     ]
    }
   ],
   "source": [
    "# Addition\n",
    "num1 = 5\n",
    "num2 = 3\n",
    "sum_result = num1 + num2\n",
    "print(\"The sum is:\", sum_result)\n",
    "\n",
    "# Division\n",
    "num3 = 10\n",
    "num4 = 2\n",
    "div_result = num3 / num4\n",
    "print(\"The division result is:\", div_result)"
   ]
  },
  {
   "cell_type": "markdown",
   "id": "82c7cc7e",
   "metadata": {},
   "source": [
    "### 3. Write a Python program to find the area of a triangle?"
   ]
  },
  {
   "cell_type": "code",
   "execution_count": 10,
   "id": "f1abf998",
   "metadata": {},
   "outputs": [
    {
     "name": "stdout",
     "output_type": "stream",
     "text": [
      "Enter the base length of the triangle: 4\n",
      "Enter the height of the triangle: 3.5\n",
      "The area of the triangle is: 7.0\n"
     ]
    }
   ],
   "source": [
    "base = float(input(\"Enter the base length of the triangle: \"))\n",
    "height = float(input(\"Enter the height of the triangle: \"))\n",
    "\n",
    "area = (base * height) / 2\n",
    "\n",
    "print(\"The area of the triangle is:\", area)"
   ]
  },
  {
   "cell_type": "markdown",
   "id": "53bfa914",
   "metadata": {},
   "source": [
    "### 4. Write a Python program to swap two variables?"
   ]
  },
  {
   "cell_type": "code",
   "execution_count": 11,
   "id": "27b5843b",
   "metadata": {},
   "outputs": [
    {
     "name": "stdout",
     "output_type": "stream",
     "text": [
      "Enter the value of variable 1: 23\n",
      "Enter the value of variable 2: 54\n",
      "Before swapping:\n",
      "Variable 1 = 23\n",
      "Variable 2 = 54\n",
      "After swapping:\n",
      "Variable 1 = 54\n",
      "Variable 2 = 23\n"
     ]
    }
   ],
   "source": [
    "# Input the values of the variables\n",
    "var1 = input(\"Enter the value of variable 1: \")\n",
    "var2 = input(\"Enter the value of variable 2: \")\n",
    "\n",
    "# Print the values before swapping\n",
    "print(\"Before swapping:\")\n",
    "print(\"Variable 1 =\", var1)\n",
    "print(\"Variable 2 =\", var2)\n",
    "\n",
    "# Swap the values\n",
    "temp = var1\n",
    "var1 = var2\n",
    "var2 = temp\n",
    "\n",
    "# Print the values after swapping\n",
    "print(\"After swapping:\")\n",
    "print(\"Variable 1 =\", var1)\n",
    "print(\"Variable 2 =\", var2)"
   ]
  },
  {
   "cell_type": "markdown",
   "id": "bbcce0b6",
   "metadata": {},
   "source": [
    "### 5. Write a Python program to generate a random number?"
   ]
  },
  {
   "cell_type": "code",
   "execution_count": 15,
   "id": "6d593090",
   "metadata": {},
   "outputs": [
    {
     "name": "stdout",
     "output_type": "stream",
     "text": [
      "Random number: 471\n"
     ]
    }
   ],
   "source": [
    "import random\n",
    "\n",
    "# Generate a random number between 1 and 1000\n",
    "random_number = random.randint(1, 1000)\n",
    "\n",
    "print(\"Random number:\", random_number)\n"
   ]
  },
  {
   "cell_type": "code",
   "execution_count": null,
   "id": "9c4d707b",
   "metadata": {},
   "outputs": [],
   "source": []
  }
 ],
 "metadata": {
  "kernelspec": {
   "display_name": "Python 3 (ipykernel)",
   "language": "python",
   "name": "python3"
  },
  "language_info": {
   "codemirror_mode": {
    "name": "ipython",
    "version": 3
   },
   "file_extension": ".py",
   "mimetype": "text/x-python",
   "name": "python",
   "nbconvert_exporter": "python",
   "pygments_lexer": "ipython3",
   "version": "3.10.7"
  }
 },
 "nbformat": 4,
 "nbformat_minor": 5
}
